{
 "cells": [
  {
   "cell_type": "markdown",
   "id": "383255",
   "metadata": {
    "collapsed": false
   },
   "source": [
    "# SAT Solver for Quantum Error Correcting Code Distance\n",
    "\n",
    "Heather Leitch & Alastair Kay\n",
    "\n",
    "Royal Holloway, University of London"
   ]
  },
  {
   "cell_type": "code",
   "execution_count": 16,
   "id": "91edf4",
   "metadata": {
    "collapsed": false
   },
   "outputs": [
   ],
   "source": [
    "#initial imports\n",
    "import numpy as np\n",
    "from IPython.display import display, Math, Latex\n",
    "\n",
    "# requires ldpc https://github.com/quantumgizmos/ldpc/tree/main\n",
    "from ldpc.mod2 import *\n",
    "from ldpc.codes import *\n",
    "\n",
    "#requires pysat, https://pysathq.github.io/\n",
    "#pysat not so easy to get running under windows. Might instead use a cloud service such as cocalc.com\n",
    "from pysat.card import *\n",
    "from pysat.solvers import Glucose42\n",
    "\n",
    "#most proof verifiers are command line utilities. Here's one we can instead use from python. https://fairlyaccountable.org/verified_rup/drup.html\n",
    "import drup"
   ]
  },
  {
   "cell_type": "markdown",
   "id": "ce72d1",
   "metadata": {
    "collapsed": false
   },
   "source": [
    "Given a CSS code defined by binary matrices $H_X\\in\\{0,1\\}^{m_X\\times n}$ and $H_Z\\in\\{0,1\\}^{m_Z\\times n}$, we want to determine the (Z) distance (to find $X$ distance, just switch $H_X$ and $H_Z$). We do this by defining the decision problem:\n",
    "\n",
    "> Is there a string $x\\in\\{0,1\\}^n$ of weight $w_x\\leq w$ for which $H_X\\cdot x\\equiv 0\\text{ mod }2$ (i.e. there's a $Z_x$ operator that commutes with all $X$-type stabilizers) and which cannot be written as a product of $Z$-type stabilizers, i.e. $\\nexists u\\in\\{0,1\\}^{m_Z}: H_Z^T\\cdot u=x$.\n",
    "\n",
    "We need to set this up in conjunctive normal form, possibly using some auxiliary variables as well.\n",
    "\n",
    "> CNF($w_x\\leq w$) AND CNF($H_X\\cdot x\\equiv 0\\text{ mod }2$) AND CNF($\\nexists u\\in\\{0,1\\}^{m_Z}: H_Z^T\\cdot u=x$)\n",
    "\n",
    "## Second Term\n",
    "\n",
    "Let's define $pwt(x)$ as the parity of the weight of the bit string $x$.\n",
    "\n",
    "\n",
    "Remove any linearly dependent rows from $H_X$. Then let $h_i$ be a row of $H_X$.\n",
    "\n",
    "> $pwt(h_1. x)=0$ AND $pwt(h_2\\cdot x)=0$ AND $\\ldots$ AND $pwt(h_{m_X}\\cdot x)=0$\n",
    "\n",
    "Here $h\\cdot x$ means the binary string $x_1h_1,x_2h_2,\\ldots x_nh_n$\n",
    "\n",
    "## Third Term\n",
    "\n",
    "Let's take $H_Z$ in standard form\n",
    "$$\n",
    "H_Z=[\\mathbb{1} | A]\n",
    "$$\n",
    "If we divide $x$ into $x_L|x_R$, $x_l$ of length equal to rank of $H_Z$ then $H_Z^Tu=x$ requires $u=x_L$, and hence our condition is reduced to\n",
    "$$\n",
    "A^Tx_L\\neq x_R.\n",
    "$$\n",
    "Let $a_i$ be a row of $A^T$ (column of $A$). We set\n",
    "$$\n",
    "y_i=pwt(a_i\\cdot x_L|{x_R}_i)\n",
    "$$\n",
    "so our condition is just\n",
    "> $y_1$ OR $y_2$ OR $\\ldots$ OR $y_{n-m_Z}$\n",
    "\n",
    "## First Term\n",
    "\n",
    "This can be implemented directly in the sat solvers\n",
    "$$\n",
    "wt(x)\\leq w\n",
    "$$"
   ]
  },
  {
   "cell_type": "code",
   "execution_count": 17,
   "id": "1c24fa",
   "metadata": {
    "collapsed": false
   },
   "outputs": [
   ],
   "source": [
    "def xor(y,x1,x2):\n",
    "    \"\"\"\n",
    "    in: y,x1,x2. three non-zero integers specifying variables\n",
    "    out: SAT constraints that fix y=x1 oplus x2\"\"\"\n",
    "    assert isinstance(y,int) and isinstance(x1,int) and isinstance(x2,int)\n",
    "    assert y * x1 * x2 != 0\n",
    "    return [[-y,-x1,-x2],[-y,x1,x2],[y,x1,-x2],[y,-x1,x2]]\n",
    "\n",
    "def pwt(h,idx,num_vars):\n",
    "    \"\"\"\n",
    "    Calculate the parity of the weight of the variables in h\n",
    "    in:\n",
    "    h: list of non-zero integers. The variables whose weight we want to calculate the parity of\n",
    "    idx: the variable to store that parity (i.e. idx=pwt(h))\n",
    "    num_vars: the number of variables we already have (since we'll be adding ancillas off the end of this)\n",
    "    \n",
    "    out:\n",
    "    sat constraints for the calculation\n",
    "    number of new ancillas\n",
    "    \"\"\"\n",
    "    assert isinstance(h,list)\n",
    "    assert len(h)>0\n",
    "    assert all([isinstance(el,int) and h!=0 for el in h])\n",
    "    assert isinstance(idx,int) and idx>0\n",
    "    assert isinstance(num_vars,int) and num_vars>0\n",
    "    \n",
    "    if len(h)==2:\n",
    "        new_cons=xor(idx,h[0],h[1])\n",
    "        num_new_ancilla=0\n",
    "    elif len(h)==3:\n",
    "        #only add one new variable\n",
    "        num_new_ancilla=1\n",
    "        new_cons=xor(idx,h[2],num_vars+1)\n",
    "        nc,na=pwt(h[:2],num_vars+1,num_vars+1)\n",
    "        new_cons+=nc\n",
    "        num_new_ancilla+=na\n",
    "    else:\n",
    "        #add two new variables\n",
    "        v1,v2=num_vars+1,num_vars+2\n",
    "        num_new_ancilla=2\n",
    "        new_cons=xor(idx,v1,v2)\n",
    "        B = h[:len(h)//2]\n",
    "        C = h[len(h)//2:]\n",
    "        nc,na=pwt(B,v1,num_vars+2)\n",
    "        new_cons+=nc\n",
    "        num_new_ancilla+=na\n",
    "        nc,na=pwt(C,v2,num_vars+2+na)\n",
    "        new_cons+=nc\n",
    "        num_new_ancilla+=na\n",
    "    return new_cons,num_new_ancilla\n",
    "    \n",
    "\n",
    "\n",
    "def sat_distance(threshold,HX,HZ,proof=False,switch=False):\n",
    "    \"\"\"this is the main entry point for testing the Z distance.\n",
    "    we ask if there's an error with weight <=threshold\n",
    "    In:\n",
    "    threshold: positive integer\n",
    "    HX,HZ: binary matrices (numpy array)\n",
    "    proof: Boolean\n",
    "    switch: Boolean. False: Z distance. True: X distance (only alters label when we print the output). You also need to switch order of HX/HZ.\n",
    "    \n",
    "    Out:\n",
    "    returns the output of the sat solver (i.e. a satisfying instance) if it exists. Returns False if fails.\n",
    "    \"\"\"\n",
    "\n",
    "    assert isinstance(HX,np.ndarray) and isinstance(HZ,np.ndarray)\n",
    "    assert not np.any(HX-HX*HX) # evaluate x(1-x) on each element to ensure binary\n",
    "    assert not np.any(HZ-HZ*HZ)\n",
    "    constraints=[] # form a list of constraints\n",
    "    ancillas=0\n",
    "    n=np.shape(HX)[1]\n",
    "    assert n==np.shape(HZ)[1]\n",
    "    assert not np.any(np.mod(HX @ HZ.T,2))\n",
    "    \n",
    "    letter=switch*\"X\"+(1-switch)*\"Z\"\n",
    "\n",
    "    #get the parity check matrices into standard form\n",
    "    Hx,rkx,row_transform,col_transform=reduced_row_echelon(HX)\n",
    "    Hx=np.mod(row_transform @ HX,2) # removes any linearly dependent rows without messing up columns\n",
    "    Hz,rk,row_transform,col_transform=reduced_row_echelon(HZ)\n",
    "    A=Hz[:rk,rk:].T # extract the non-identity part of Hz and transpose it.\n",
    "    assert (Hz==np.mod(row_transform @ HZ @ col_transform,2)).all()\n",
    "    Hx=np.mod(Hx @ col_transform,2) # keep the columns consistent\n",
    "    #Hz now has leading block of identity\n",
    "\n",
    "    #do the \"not a stabilizer\" conditions (third term)\n",
    "    #introduce n-rk new variables y_i\n",
    "    ancillas=2*n-rk\n",
    "    constraints=[list(range(n+1,ancillas+1))] # y_1 or y_2 or y_3....\n",
    "    for idx in range(n-rk):\n",
    "        #set y_idx to pwt(A^T_i. x_L|x_R_i)\n",
    "        row=[i+1 for i,j in enumerate(A[idx]) if j]+[rk+idx+1] # this is A_i.x_L and appropriate bit of x_R\n",
    "        new_cons,num_new=pwt(row,idx+n+1,ancillas) # set equal to y_i\n",
    "        constraints+=new_cons\n",
    "        ancillas+=num_new\n",
    "        \n",
    "    #the \"commutes with all X stabilizers\" conditions (second term)\n",
    "    #add some new variables to receive the pwt(h_i)\n",
    "    start_ancillas=ancillas\n",
    "    for idx in range(rkx):\n",
    "        constraints+=[[-(start_ancillas+idx+1)]] # y_i=0\n",
    "        new_cons,num_new=pwt([i+1 for i,j in enumerate(Hx[idx]) if j],start_ancillas+idx+1,ancillas) # y_i=pwt(h_i)\n",
    "        constraints+=new_cons\n",
    "        ancillas+=num_new\n",
    "\n",
    "    #w_x<=threshold (first term)\n",
    "    cnf = CardEnc.atmost(lits=list(range(1,n+1)),bound=threshold,top_id=ancillas, encoding=EncType.seqcounter)\n",
    "    constraints+=cnf.clauses\n",
    "\n",
    "    #send the constraints to the sat solver\n",
    "    g = Glucose42(bootstrap_with=constraints,with_proof=proof) # if we used cryptominisat, has native \"add_xor_clause\", but proof not supported\n",
    "                                                               # if we used gluecard 4,    has native \"add_atmost()\"  , but proof not supported\n",
    "                                                               # native functionality should be faster\n",
    "    #solve!\n",
    "    solution=g.solve()\n",
    "    if solution:\n",
    "        model=g.get_model()\n",
    "        result=[i>0 for i in model[:n]]\n",
    "        assert sum(result)<=threshold          # check that the solution has the correctly limited weight\n",
    "        assert np.sum(np.mod(Hx@ result,2))==0 # check that the solution really is a null vector of HX\n",
    "        temp=[i+1 for v in model[:n] if v>0 for i,j in enumerate((col_transform.T)[v-1]) if j] # undo the permutation to standard form so that the output is actually meaningful!\n",
    "        err=[letter+\"_{\"+str(i)+\"}\" for i in temp]\n",
    "        \n",
    "        x_left=result[:rk]\n",
    "        x_right=result[rk:]\n",
    "        assert np.sum(np.mod(A@x_left+x_right,2))>0 # check the \"not a stabilizer\" condition\n",
    "        display(Latex(\"We found an error of weight \"+str(sum(result))+\" of the form $\"+\"\".join(err)+\"$\"))\n",
    "        g.delete()\n",
    "        return model # remember that the columns may have been permuted, so there's no point in looking at the answer.\n",
    "    else:\n",
    "        if proof:\n",
    "            assert check_proof(g.get_proof(),constraints)\n",
    "            print(\"Proof of no solution verified.\")\n",
    "        g.delete()\n",
    "        return False\n",
    "\n",
    "    \n",
    "def check_proof(proof,cnf):\n",
    "    \"\"\"given a purported proof and the original CNF formula, verify the proof\n",
    "    Use a checker of your choice\n",
    "    \"\"\"\n",
    "    print(\"Proof of no solution:\")\n",
    "    print(proof)\n",
    "    \n",
    "    proof2 = [[int(l) for l in c.split(' ')[:-1]] for c in proof if c[0]!=\"d\"]\n",
    "    drup.check_proof(cnf, proof2, verbose=True)\n",
    "    \n",
    "    return True\n",
    "    \n",
    "def find_weight(Hx,Hz,upper_bound,both=False,switch=False):\n",
    "    \"\"\"find a logical Z operator of the code with a weight less than upper_bound. Continue decreasing until you cannot find a shorter one\n",
    "    In:\n",
    "    HX,HZ: numpy matrices for parity checks\n",
    "    upper_bound: positive integer for which we know a logical operator exists\n",
    "    both: boolean (False: just find Z distance. True: find X and Z distances)\n",
    "    switch: boolean. only relevant if both is False. By default we're calculating Z distance, but if you want X distance, set this to True. Don't change order of arguments HX/HZ\n",
    "    Out:\n",
    "    code distance\"\"\"\n",
    "    if switch:\n",
    "        HX,HZ=Hz,Hx\n",
    "    else:\n",
    "        HX,HZ=Hx,Hz\n",
    "    assert isinstance(HX,np.ndarray) and isinstance(HZ,np.ndarray)\n",
    "    assert not np.any(HX-HX*HX) # evaluate x(1-x) on each element to ensure binary\n",
    "    assert not np.any(HZ-HZ*HZ)\n",
    "    \n",
    "    upper=upper_bound\n",
    "    bRunning=True\n",
    "    (x,num)=np.shape(HX)\n",
    "    while bRunning:\n",
    "        out=sat_distance(upper-1,HX,HZ,switch=switch)\n",
    "        if out:\n",
    "            #process out to find the weight of the error\n",
    "            n_upper=sum([val>0 for val in out[:num]])\n",
    "            assert 0<n_upper<upper\n",
    "            print(\"Checking if there's anything shorter...\")\n",
    "            upper=n_upper\n",
    "        else:\n",
    "            bRunning=False\n",
    "    if both: # also calculate the X distance (but only care if it's shorter than the Z distance)\n",
    "        bRunning=True\n",
    "        (x,num)=np.shape(HZ)\n",
    "        while bRunning:\n",
    "            out=sat_distance(upper-1,HZ,HX,switch=not switch)\n",
    "            if out:\n",
    "                #process out to find the weight of the error\n",
    "                n_upper=sum([1 for val in out[:num] if val>0])\n",
    "                assert 0<n_upper<upper\n",
    "                print(\"Checking if there's anything shorter...\")\n",
    "                upper=n_upper\n",
    "            else:\n",
    "                bRunning=False\n",
    "    return upper"
   ]
  },
  {
   "cell_type": "markdown",
   "id": "d0131f",
   "metadata": {
    "collapsed": false
   },
   "source": [
    "## Error Correcting Code Definitions"
   ]
  },
  {
   "cell_type": "code",
   "execution_count": 5,
   "id": "645df9",
   "metadata": {
    "collapsed": false
   },
   "outputs": [
   ],
   "source": [
    "#interesting error correcting codes\n",
    "#functions which return H_X,H_Z\n",
    "\n",
    "#Steane Code\n",
    "def Steane_parity_checks():\n",
    "    return QHammingCode(3)\n",
    "\n",
    "def QHammingCode(n):\n",
    "    \"\"\"[[2^n-1,1,3]] codes\"\"\"\n",
    "    HX=hamming_code(n)\n",
    "    HZ=nullspace(np.vstack([HX,[1]*(2**n-1)]))\n",
    "    return HX,HZ\n",
    "\n",
    "# Bivariate bicycle codes: Nature volume 627, pages 778–782 (2024).\n",
    "def IBM_parity_checks(l,m,powersA,powersB):\n",
    "    \"\"\"creates an IBM code using parameters l,m, of form H_X=[A|B], H_Z=[B^T|A^T].\n",
    "    powersA,powersB: list of length 3, pairs of integers [a,b], first 0 to l-1, second 0 to m-1, defining a term $x^ay^b$\"\"\"\n",
    "    assert isinstance(powersA,list)\n",
    "    assert len(powersA)>=2\n",
    "    assert all([0<=a<l and 0<=b<m for a,b in powersA])\n",
    "    assert isinstance(powersB,list)\n",
    "    assert len(powersB)>=2\n",
    "    assert all([0<=a<l and 0<=b<m for a,b in powersB])\n",
    "\n",
    "    A=sum([np.kron(np.roll(np.eye(l), a, axis=1),np.roll(np.eye(m), b, axis=1)) for a,b in powersA])\n",
    "    B=sum([np.kron(np.roll(np.eye(l), a, axis=1),np.roll(np.eye(m), b, axis=1)) for a,b in powersB])\n",
    "    \n",
    "    HX=np.block([[A,B]])\n",
    "    HZ=np.block([[B.T,A.T]])\n",
    "    assert HX.shape==(l*m,l*m*2)\n",
    "    assert all(np.sum(HX, axis=1)==[len(powersA)*2]*l*m)\n",
    "    assert all(np.sum(HX, axis=0)==[len(powersA)]*l*m*2)\n",
    "    return HX,HZ\n",
    "\n",
    "def Toric_parity_checks(N):\n",
    "    \"\"\"create a Toric code of 2N^2 qubits\"\"\"\n",
    "    return IBM_parity_checks(N,N,[[0,0],[1,0]],[[0,0],[0,1]])"
   ]
  },
  {
   "cell_type": "markdown",
   "id": "00825e",
   "metadata": {
    "collapsed": false
   },
   "source": [
    "## Tests to see if it works"
   ]
  },
  {
   "cell_type": "code",
   "execution_count": 8,
   "id": "d8c54f",
   "metadata": {
    "collapsed": false,
    "scrolled": true
   },
   "outputs": [
    {
     "data": {
      "text/latex": [
       "We found an error of weight 3 of the form $Z_{1}Z_{2}Z_{3}$"
      ],
      "text/plain": [
       "<IPython.core.display.Latex object>"
      ]
     },
     "execution_count": 8,
     "metadata": {
     },
     "output_type": "execute_result"
    },
    {
     "data": {
      "text/latex": [
       "We found an error of weight 6 of the form $Z_{49}Z_{51}Z_{68}Z_{69}Z_{70}Z_{71}$"
      ],
      "text/plain": [
       "<IPython.core.display.Latex object>"
      ]
     },
     "execution_count": 8,
     "metadata": {
     },
     "output_type": "execute_result"
    },
    {
     "data": {
      "text/latex": [
       "We found an error of weight 3 of the form $Z_{1}Z_{2}Z_{3}$"
      ],
      "text/plain": [
       "<IPython.core.display.Latex object>"
      ]
     },
     "execution_count": 8,
     "metadata": {
     },
     "output_type": "execute_result"
    },
    {
     "name": "stdout",
     "output_type": "stream",
     "text": [
      "Checking if there's anything shorter...\n"
     ]
    },
    {
     "data": {
      "text/latex": [
       "We found an error of weight 3 of the form $Z_{16}Z_{17}Z_{18}$"
      ],
      "text/plain": [
       "<IPython.core.display.Latex object>"
      ]
     },
     "execution_count": 8,
     "metadata": {
     },
     "output_type": "execute_result"
    },
    {
     "data": {
      "text/latex": [
       "We found an error of weight 3 of the form $Z_{16}Z_{17}Z_{18}$"
      ],
      "text/plain": [
       "<IPython.core.display.Latex object>"
      ]
     },
     "execution_count": 8,
     "metadata": {
     },
     "output_type": "execute_result"
    },
    {
     "name": "stdout",
     "output_type": "stream",
     "text": [
      "Checking if there's anything shorter...\n"
     ]
    },
    {
     "data": {
      "text/latex": [
       "We found an error of weight 5 of the form $Z_{46}Z_{47}Z_{48}Z_{49}Z_{50}$"
      ],
      "text/plain": [
       "<IPython.core.display.Latex object>"
      ]
     },
     "execution_count": 8,
     "metadata": {
     },
     "output_type": "execute_result"
    },
    {
     "data": {
      "text/latex": [
       "We found an error of weight 5 of the form $Z_{46}Z_{47}Z_{48}Z_{49}Z_{50}$"
      ],
      "text/plain": [
       "<IPython.core.display.Latex object>"
      ]
     },
     "execution_count": 8,
     "metadata": {
     },
     "output_type": "execute_result"
    },
    {
     "name": "stdout",
     "output_type": "stream",
     "text": [
      "Checking if there's anything shorter...\n"
     ]
    },
    {
     "data": {
      "text/latex": [
       "We found an error of weight 5 of the form $Z_{7}Z_{11}Z_{13}Z_{14}Z_{15}$"
      ],
      "text/plain": [
       "<IPython.core.display.Latex object>"
      ]
     },
     "execution_count": 8,
     "metadata": {
     },
     "output_type": "execute_result"
    },
    {
     "name": "stdout",
     "output_type": "stream",
     "text": [
      "Checking if there's anything shorter...\n"
     ]
    },
    {
     "data": {
      "text/latex": [
       "We found an error of weight 3 of the form $Z_{6}Z_{11}Z_{13}$"
      ],
      "text/plain": [
       "<IPython.core.display.Latex object>"
      ]
     },
     "execution_count": 8,
     "metadata": {
     },
     "output_type": "execute_result"
    },
    {
     "name": "stdout",
     "output_type": "stream",
     "text": [
      "Checking if there's anything shorter...\n"
     ]
    },
    {
     "data": {
      "text/latex": [
       "We found an error of weight 7 of the form $X_{1}X_{2}X_{4}X_{3}X_{5}X_{6}X_{7}$"
      ],
      "text/plain": [
       "<IPython.core.display.Latex object>"
      ]
     },
     "execution_count": 8,
     "metadata": {
     },
     "output_type": "execute_result"
    },
    {
     "name": "stdout",
     "output_type": "stream",
     "text": [
      "Checking if there's anything shorter...\n",
      "All tests passed!!!\n"
     ]
    }
   ],
   "source": [
    "#some functions that let you evaluate the conditional clasues to see if they're doing what you think\n",
    "def output_truthtable(constraints):\n",
    "    vars=max([abs(i) for row in constraints for i in row])\n",
    "    return [bit_string_satisfies(constraints,mod10_to_mod2(idx,length=vars)) for idx in range(2**vars)]\n",
    "\n",
    "def test_with_unknown_ancillas(constraints,input,output):\n",
    "    \"\"\"for a set of constraints (which have been formulated using some ancillas that I don't know how they work), see if the constraints work properly.\n",
    "    input: the bit values x for a given row of the truth table\n",
    "    output: the output of the truth table\n",
    "    returns True/False if answer correct or not.\n",
    "    if output==0, answer correct if all possible ancilla inputs return 0\n",
    "    if output==1, answer correct if there exists an ancilla input that returns 1\"\"\"\n",
    "    largest=max([abs(i) for constraint in constraints for i in constraint])\n",
    "    first_ancilla=len(input)\n",
    "    num_ancillas=largest+1-first_ancilla\n",
    "    if output:\n",
    "        return any([bit_string_satisfies(constraints,input+mod10_to_mod2(idx,length=num_ancillas)) for idx in range(2**num_ancillas)])\n",
    "    else:\n",
    "        return all([not bit_string_satisfies(constraints,input+mod10_to_mod2(idx,length=num_ancillas)) for idx in range(2**num_ancillas)])\n",
    "\n",
    "def bit_string_satisfies(constraints,str):\n",
    "    \"\"\"This is purely for testing purposes\"\"\"\n",
    "    return all([bit_string_or(cons,str) for cons in constraints]) # and everything\n",
    "\n",
    "def bit_string_or(constraint,str):\n",
    "    return any([test_condition(cons,str) for cons in constraint]) # or everything\n",
    "\n",
    "def test_condition(constraint,str): # an individual term\n",
    "    if constraint>0:\n",
    "        return str[constraint-1]\n",
    "    elif not constraint:\n",
    "        return 1\n",
    "    else:\n",
    "        return not str[-constraint-1]\n",
    "\n",
    "\n",
    "\n",
    "#tests to verify that I'm constructing the xor correctly\n",
    "assert output_truthtable(xor(3,1,2))==[1,0,0,1,0,1,1,0] # y_1=x_1 xor x_2\n",
    "assert output_truthtable(pwt([1,2,3],4,4)[0])==[1,0,0,0,0,0,1,0,0,0,0,1,0,1,0,0,0,0,0,1,0,1,0,0,1,0,0,0,0,0,1,0] # y_1=x_1 xor x_2 xor x_3 AND y_2=x_1 xor x_2\n",
    "assert pwt([1,2,3,4,5,6,7],8,8)[1]==5 # I'm not calculating the truth table for this, but can at least predict the number of ancillas required\n",
    "#test CardEnc:\n",
    "conds=CardEnc.atmost(lits=[1,2,3,4],bound=2, encoding=EncType.seqcounter).clauses\n",
    "assert all([test_with_unknown_ancillas(conds,mod10_to_mod2(idx,length=4),sum(mod10_to_mod2(idx,length=4))<=2) for idx in range(2**4)])\n",
    "\n",
    "#basic test cases for distance calculations\n",
    "\n",
    "assert sat_distance(3,*Steane_parity_checks())\n",
    "assert sat_distance(6,*IBM_parity_checks(6,6,[[0,0],[1,0],[2,3]],[[0,0],[0,1],[3,2]]))\n",
    "assert not sat_distance(2,*Steane_parity_checks())\n",
    "assert not sat_distance(5,*IBM_parity_checks(6,6,[[0,0],[1,0],[2,3]],[[0,0],[0,1],[3,2]]))\n",
    "\n",
    "assert find_weight(*Steane_parity_checks(),5)==3\n",
    "assert find_weight(*IBM_parity_checks(6,6,[[0,0],[1,0],[2,3]],[[0,0],[0,1],[3,2]]),6)==6\n",
    "\n",
    "assert sat_distance(3,*Toric_parity_checks(3))\n",
    "assert find_weight(*Toric_parity_checks(3),7)==3\n",
    "assert sat_distance(5,*Toric_parity_checks(5))\n",
    "assert not sat_distance(4,*Toric_parity_checks(5))\n",
    "assert find_weight(*Toric_parity_checks(5),7)==5\n",
    "\n",
    "assert find_weight(*QHammingCode(4),9)==3\n",
    "assert find_weight(*QHammingCode(4),9,switch=True)==7\n",
    "print(\"All tests passed!!!\")"
   ]
  },
  {
   "cell_type": "markdown",
   "id": "9c2445",
   "metadata": {
    "collapsed": false
   },
   "source": [
    "If we enable proofs, then when a solution is not found, we also get given a proof which claims to show that there is no solution. In principle, we can check this proof with an independent proof checker, such as https://pypi.org/project/drup/ (as implemented) or https://www.cs.utexas.edu/~marijn/drat-trim/ (**not tested**). We *believe* we have correctly converted between proof formats, but hard to verify."
   ]
  },
  {
   "cell_type": "code",
   "execution_count": 18,
   "id": "3e71e6",
   "metadata": {
    "collapsed": false
   },
   "outputs": [
    {
     "name": "stdout",
     "output_type": "stream",
     "text": [
      "Proof of no solution:\n",
      "['d 19 -20 0', 'd -19 20 0', 'd -2 -4 -19 0', 'd 2 4 -19 0', 'd -6 -7 -20 0', 'd 6 7 -20 0', '31 0', '29 15 9 8 0', '3 -10 15 9 16 0', '-7 -29 0', '15 9 8 0', '1 -15 0', '-15 0', '7 1 -9 0', '-7 0', '1 0', '0']\n",
      "Proof of no solution verified.\n"
     ]
    },
    {
     "data": {
      "text/plain": [
       "False"
      ]
     },
     "execution_count": 18,
     "metadata": {
     },
     "output_type": "execute_result"
    }
   ],
   "source": [
    "sat_distance(2,*Steane_parity_checks(),proof=True)"
   ]
  },
  {
   "cell_type": "code",
   "execution_count": 0,
   "id": "7dc77c",
   "metadata": {
    "collapsed": false
   },
   "outputs": [
   ],
   "source": [
   ]
  }
 ],
 "metadata": {
  "kernelspec": {
   "argv": [
    "/usr/bin/python3",
    "-m",
    "ipykernel",
    "--HistoryManager.enabled=False",
    "--matplotlib=inline",
    "-c",
    "%config InlineBackend.figure_formats = set(['retina'])\nimport matplotlib; matplotlib.rcParams['figure.figsize'] = (12, 7)",
    "-f",
    "{connection_file}"
   ],
   "display_name": "Python 3 (system-wide)",
   "env": {
   },
   "language": "python",
   "metadata": {
    "cocalc": {
     "description": "Python 3 programming language",
     "priority": 100,
     "url": "https://www.python.org/"
    }
   },
   "name": "python3",
   "resource_dir": "/ext/jupyter/kernels/python3"
  },
  "language_info": {
   "codemirror_mode": {
    "name": "ipython",
    "version": 3
   },
   "file_extension": ".py",
   "mimetype": "text/x-python",
   "name": "python",
   "nbconvert_exporter": "python",
   "pygments_lexer": "ipython3",
   "version": "3.10.12"
  }
 },
 "nbformat": 4,
 "nbformat_minor": 4
}